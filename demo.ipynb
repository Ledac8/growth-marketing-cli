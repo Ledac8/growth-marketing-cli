# GROWTH MARKETING CLI - COMPLETE WORKING DEMO IN ONE CELL
print("🚀 Growth Marketing CLI - Live Demo")
print("=" * 50)

# Install packages
print("📦 Installing packages...")
!pip install -q pandas numpy scipy matplotlib seaborn statsmodels

print("✅ Packages installed!")
print("🎯 Running Growth Marketing CLI Demos...")
print("=" * 50)

# ALL CLI CODE GOES HERE - NO SEPARATE FILE NEEDED
import argparse
import pandas as pd
import numpy as np
import matplotlib.pyplot as plt
from scipy import stats
import seaborn as sns

class GrowthMarketingCLI:
    def funnel_analysis(self):
        print("🔍 Funnel Analysis Tool")
        print("=" * 50)
        stages = ["Visitors", "Signups", "Activated", "Paying"]
        conversions = [10000, 1500, 300, 75]
        funnel_data = []
        for i in range(len(stages)):
            if i == 0:
                rate = 100.0
            else:
                rate = (conversions[i] / conversions[i-1]) * 100
            funnel_data.append({
                "Stage": stages[i],
                "Users": conversions[i],
                "Conversion Rate": f"{rate:.1f}%",
                "Drop-off": f"{(100 - rate):.1f}%" if i > 0 else "0%"
            })
        df = pd.DataFrame(funnel_data)
        print(df.to_string(index=False))
        max_dropoff = max([float(x["Drop-off"].replace("%", "")) for x in funnel_data[1:]])
        print(f"\\n🚨 Biggest drop-off: {max_dropoff}%")
        return df

    def ab_test_analyzer(self, visitors_a, conversions_a, visitors_b, conversions_b):
        print("📊 A/B Test Analysis")
        print("=" * 50)
        rate_a = conversions_a / visitors_a
        rate_b = conversions_b / visitors_b
        from statsmodels.stats.proportion import proportions_ztest
        count = np.array([conversions_a, conversions_b])
        nobs = np.array([visitors_a, visitors_b])
        z_stat, p_value = proportions_ztest(count, nobs)
        print(f"Variant A: {conversions_a}/{visitors_a} ({rate_a:.2%})")
        print(f"Variant B: {conversions_b}/{visitors_b} ({rate_b:.2%})")
        print(f"Improvement: {(rate_b - rate_a)/rate_a:+.2%}")
        print(f"P-value: {p_value:.4f}")
        if p_value < 0.05:
            print("✅ Result: STATISTICALLY SIGNIFICANT")
            if rate_b > rate_a:
                print("🎉 Variant B is the winner!")
            else:
                print("🎉 Variant A is the winner!")
        else:
            print("❌ Result: Not statistically significant")
        return {'p_value': p_value, 'improvement': (rate_b - rate_a) / rate_a}

    def keyword_analyzer(self, seed_keyword):
        print(f"🔎 Keyword Analysis for: {seed_keyword}")
        print("=" * 50)
        related_keywords = [
            f"{seed_keyword} tutorial", f"{seed_keyword} guide", f"best {seed_keyword}",
            f"{seed_keyword} for beginners", f"how to {seed_keyword}"
        ]
        keyword_data = []
        for keyword in related_keywords:
            volume = np.random.randint(1000, 10000)
            competition = np.random.uniform(0.1, 0.9)
            cpc = np.random.uniform(0.5, 5.0)
            opportunity = volume * (1 - competition)
            keyword_data.append({
                'Keyword': keyword,
                'Monthly Volume': f"{volume:,}",
                'Competition': f"{competition:.1%}",
                'CPC': f"${cpc:.2f}",
                'Opportunity Score': f"{opportunity:.0f}"
            })
        df = pd.DataFrame(keyword_data)
        df_sorted = df.sort_values('Opportunity Score', key=lambda x: x.str.replace(',', '').astype(float), ascending=False)
        print(df_sorted.to_string(index=False))
        return df_sorted

    def retention_calculator(self):
        print("📈 Retention Analysis")
        print("=" * 50)
        cohorts = ['Jan', 'Feb', 'Mar', 'Apr']
        weeks = ['Week 1', 'Week 2', 'Week 3', 'Week 4']
        retention_data = []
        for cohort in cohorts:
            base_retention = np.random.uniform(0.8, 0.95)
            cohort_retention = [100]
            for week in range(1, 4):
                retention = cohort_retention[-1] * base_retention * np.random.uniform(0.9, 1.0)
                cohort_retention.append(round(retention, 1))
            retention_data.append(cohort_retention)
        df = pd.DataFrame(retention_data, index=cohorts, columns=weeks)
        print(df)
        avg_retention = df.mean(axis=0)
        print(f"\\n📊 Average Retention:")
        for week, retention in avg_retention.items():
            print(f"{week}: {retention:.1f}%")
        return df

# CREATE INSTANCE AND RUN DEMOS
cli = GrowthMarketingCLI()

print("\\n" + "="*50)
print("🎯 DEMO 1: Funnel Analysis")
print("="*50)
cli.funnel_analysis()

print("\\n" + "="*50)
print("🎯 DEMO 2: A/B Test Analysis")
print("="*50)
cli.ab_test_analyzer(1000, 150, 1050, 180)

print("\\n" + "="*50)
print("🎯 DEMO 3: Keyword Research")
print("="*50)
cli.keyword_analyzer("growth marketing")

print("\\n" + "="*50)
print("🎯 DEMO 4: Retention Analysis")
print("="*50)
cli.retention_calculator()

print("\\n" + "="*50)
print("🎉 ALL DEMOS COMPLETED SUCCESSFULLY!")
print("🚀 Your Growth Marketing CLI is working perfectly!")
print("="*50)
