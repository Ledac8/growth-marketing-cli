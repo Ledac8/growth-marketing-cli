{
  "nbformat": 4,
  "nbformat_minor": 0,
  "metadata": {
    "colab": {
      "provenance": []
    },
    "kernelspec": {
      "name": "python3",
      "display_name": "Python 3"
    },
    "language_info": {
      "name": "python"
    }
  },
  "cells": [
    {
      "cell_type": "code",
      "source": [
        "import pandas as pd\n",
        "import numpy as np\n",
        "\n",
        "# Simulate user IDs\n",
        "user_ids = np.arange(1000)\n",
        "\n",
        "# Simulate events with typical drop-offs\n",
        "data = {\n",
        "    'user_id': user_ids,\n",
        "    'step_1_visited_homepage': np.where(user_ids < 1000, 1, 0), # 1000 users start\n",
        "    'step_2_clicked_pricing': np.where(user_ids < 800, 1, 0),    # 20% drop-off\n",
        "    'step_3_signed_up': np.where(user_ids < 600, 1, 0),          # 25% drop-off\n",
        "    'step_4_completed_onboarding': np.where(user_ids < 480, 1, 0) # 20% drop-off\n",
        "}\n",
        "\n",
        "df_events = pd.DataFrame(data)\n",
        "df_events.to_csv('user_events.csv', index=False)\n",
        "print(\"user_events.csv created!\")"
      ],
      "metadata": {
        "colab": {
          "base_uri": "https://localhost:8080/"
        },
        "id": "bj8vv2wK-Jho",
        "outputId": "9146c42e-3ac1-4e10-c070-9f4b75ff4e8c"
      },
      "execution_count": 1,
      "outputs": [
        {
          "output_type": "stream",
          "name": "stdout",
          "text": [
            "user_events.csv created!\n"
          ]
        }
      ]
    },
    {
      "cell_type": "code",
      "source": [
        "import pandas as pd\n",
        "\n",
        "def funnel_analyze(file_path):\n",
        "    \"\"\"\n",
        "    Analyzes a user event funnel from a CSV file.\n",
        "    Assumes columns are sequential steps (e.g., step_1, step_2).\n",
        "    \"\"\"\n",
        "    df = pd.read_csv(file_path)\n",
        "    # Identify funnel steps (columns starting with 'step_')\n",
        "    steps = [col for col in df.columns if col.startswith('step_')]\n",
        "\n",
        "    if not steps:\n",
        "        print(\"Error: No funnel steps found in the file.\")\n",
        "        return\n",
        "\n",
        "    # Calculate starting users (Total)\n",
        "    total_starters = df[steps[0]].sum()\n",
        "\n",
        "    funnel_data = []\n",
        "    previous_count = 0\n",
        "\n",
        "    for i, step in enumerate(steps):\n",
        "        current_count = df[step].sum()\n",
        "\n",
        "        if i == 0:\n",
        "            step_conversion = 1.0 # 100% conversion from 'start'\n",
        "            overall_conversion = 1.0\n",
        "        else:\n",
        "            # Step-to-step conversion\n",
        "            step_conversion = current_count / previous_count if previous_count > 0 else 0\n",
        "            # Overall conversion (from step 1)\n",
        "            overall_conversion = current_count / total_starters if total_starters > 0 else 0\n",
        "\n",
        "        funnel_data.append({\n",
        "            'Step': step,\n",
        "            'Users': current_count,\n",
        "            'Step Conv. Rate': f\"{step_conversion * 100:.2f}%\",\n",
        "            'Overall Conv. Rate': f\"{overall_conversion * 100:.2f}%\"\n",
        "        })\n",
        "\n",
        "        previous_count = current_count\n",
        "\n",
        "    # Display results\n",
        "    print(\"\\n--- 📈 Funnel Analysis Results ---\")\n",
        "    results_df = pd.DataFrame(funnel_data)\n",
        "\n",
        "    # Calculate drop-off\n",
        "    results_df['Drop-off'] = results_df['Users'].diff().fillna(0).astype(int) * -1\n",
        "    results_df['Drop-off'] = results_df['Drop-off'].apply(lambda x: 0 if x < 0 else x)\n",
        "\n",
        "    # Format and print the final table\n",
        "    print(results_df[['Step', 'Users', 'Drop-off', 'Step Conv. Rate', 'Overall Conv. Rate']].to_markdown(index=False))\n",
        "\n",
        "# --- Run the function with the sample data ---\n",
        "funnel_analyze('user_events.csv')"
      ],
      "metadata": {
        "colab": {
          "base_uri": "https://localhost:8080/"
        },
        "id": "nulAsj-a-OCv",
        "outputId": "a919bcc9-730c-434e-e896-c48613487062"
      },
      "execution_count": 2,
      "outputs": [
        {
          "output_type": "stream",
          "name": "stdout",
          "text": [
            "\n",
            "--- 📈 Funnel Analysis Results ---\n",
            "| Step                        |   Users |   Drop-off | Step Conv. Rate   | Overall Conv. Rate   |\n",
            "|:----------------------------|--------:|-----------:|:------------------|:---------------------|\n",
            "| step_1_visited_homepage     |    1000 |          0 | 100.00%           | 100.00%              |\n",
            "| step_2_clicked_pricing      |     800 |        200 | 80.00%            | 80.00%               |\n",
            "| step_3_signed_up            |     600 |        200 | 75.00%            | 60.00%               |\n",
            "| step_4_completed_onboarding |     480 |        120 | 80.00%            | 48.00%               |\n"
          ]
        }
      ]
    }
  ]
}
